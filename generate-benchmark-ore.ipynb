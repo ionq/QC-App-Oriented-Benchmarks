{
 "cells": [
  {
   "cell_type": "markdown",
   "metadata": {},
   "source": [
    "### QV to Ore"
   ]
  },
  {
   "cell_type": "code",
   "execution_count": null,
   "metadata": {},
   "outputs": [],
   "source": [
    "import qiskit.ignis.verification.quantum_volume as qv\n",
    "from qiskit2ore.dump import dump_qiskit_circuit_assets\n",
    "\n",
    "# qv_circuits call requires connectivitiy to build circuits, will return QV circuits\n",
    "# between min_qubits and max_qubits\n",
    "\n",
    "# qiskit's qv_circuits algorithm will generate a batch of circuit for\n",
    "# each width from min_qubits to max_qubits.\n",
    "min_qubits=2\n",
    "max_qubits=6\n",
    "# number of circuits for each qubit width. QV circuits are random,\n",
    "# and generally need many variants to approximate uniform unitaries.\n",
    "max_circuits=1\n",
    "\n",
    "print(\"converting qv to ore\")\n",
    "\n",
    "qubit_lists = [list(range(i)) for i in range(min_qubits, max_qubits + 1)]\n",
    "_qv_circs, qv_circs_nomeas = qv.qv_circuits(qubit_lists, max_circuits)\n",
    "for circuit_group in qv_circs_nomeas:\n",
    "    for circuit in circuit_group:\n",
    "        dump_qiskit_circuit_assets(circuit, preprocessor=True)\n",
    "\n",
    "print(\"done\")"
   ]
  },
  {
   "cell_type": "markdown",
   "metadata": {},
   "source": [
    "## AE to Ore"
   ]
  },
  {
   "cell_type": "code",
   "execution_count": null,
   "metadata": {},
   "outputs": [],
   "source": [
    "import sys\n",
    "sys.path.insert(1, \"amplitude-estimation/qiskit\")\n",
    "from ae_benchmark import AmplitudeEstimation\n",
    "from qiskit2ore.dump import dump_qiskit_circuit_assets\n",
    "import numpy as np\n",
    "\n",
    "\n",
    "##### PARAMETERS\n",
    "min_qubits=3\n",
    "max_qubits=8\n",
    "max_circuits=3\n",
    "preprocessor=True\n",
    "\n",
    "# default, not exposed to users\n",
    "num_state_qubits=1\n",
    "\n",
    "def a_from_s_int(s_int, num_counting_qubits):\n",
    "    theta = s_int * np.pi / (2**num_counting_qubits)\n",
    "    precision = int(num_counting_qubits / (np.log2(10))) + 2\n",
    "    a = round(np.sin(theta)**2, precision)\n",
    "    return a\n",
    "\n",
    "MAX_QUBITS = 8\n",
    "\n",
    "# Clamp the maximum number of qubits\n",
    "if max_qubits > MAX_QUBITS:\n",
    "    print(f\"INFO: Amplitude Estimation benchmark is limited to a maximum of {MAX_QUBITS} qubits.\")\n",
    "    max_qubits = MAX_QUBITS\n",
    "\n",
    "# validate parameters (smallest circuit is 3 qubits)\n",
    "num_state_qubits = max(1, num_state_qubits)\n",
    "if max_qubits < num_state_qubits + 2:\n",
    "    raise TypeError(f\"ERROR: AE Benchmark needs at least {num_state_qubits + 2} qubits to run\")\n",
    "min_qubits = max(max(3, min_qubits), num_state_qubits + 2)\n",
    "\n",
    "\n",
    "# Execute Benchmark Program N times for multiple circuit sizes\n",
    "# Accumulate metrics asynchronously as circuits complete\n",
    "for num_qubits in range(min_qubits, max_qubits + 1):\n",
    "    \n",
    "    # as circuit width grows, the number of counting qubits is increased\n",
    "    num_counting_qubits = num_qubits - num_state_qubits - 1\n",
    "\n",
    "    # determine number of circuits to execute for this group\n",
    "    num_circuits = min(2 ** (num_counting_qubits), max_circuits)\n",
    "    \n",
    "    print(f\"************\\nExecuting [{num_circuits}] circuits with num_qubits = {num_qubits}\")\n",
    "    \n",
    "    # determine range of secret strings to loop over\n",
    "    if 2**(num_counting_qubits) <= max_circuits:\n",
    "        s_range = list(range(num_circuits))\n",
    "    else:\n",
    "        s_range = np.random.choice(2**(num_counting_qubits), num_circuits, False)\n",
    "    \n",
    "    # loop over limited # of secret strings for this\n",
    "    for s_int in s_range:\n",
    "        # create the circuit for given qubit size and secret string\n",
    "        a_ = a_from_s_int(s_int, num_counting_qubits)\n",
    "\n",
    "        qc = AmplitudeEstimation(num_state_qubits, num_counting_qubits, a_)\n",
    "        dump_qiskit_circuit_assets(qc, preprocessor)\n",
    "        "
   ]
  },
  {
   "cell_type": "markdown",
   "metadata": {},
   "source": [
    "## VQE to Ore"
   ]
  },
  {
   "cell_type": "code",
   "execution_count": 1,
   "metadata": {},
   "outputs": [
    {
     "name": "stdout",
     "output_type": "stream",
     "text": [
      "Variational Quantum Eigensolver Benchmark\n",
      "... using circuit method 1\n",
      "************\n",
      "Executing [3] circuits with num_qubits = 4\n"
     ]
    }
   ],
   "source": [
    "import sys\n",
    "sys.path.insert(1, \"vqe/qiskit\")\n",
    "from vqe_circuits import generate_circuits\n",
    "from qiskit2ore.dump import dump_qiskit_circuit_assets\n",
    "\n",
    "##### PARAMS\n",
    "min_qubits=4\n",
    "max_qubits=10\n",
    "max_circuits=3\n",
    "method=1\n",
    "preprocessor=True\n",
    "\n",
    "circuits = generate_circuits(min_qubits, max_qubits, max_circuits, method)\n",
    "for circuit in circuits:\n",
    "    dump_qiskit_circuit_assets(circuit, preprocessor)"
   ]
  },
  {
   "cell_type": "code",
   "execution_count": null,
   "metadata": {},
   "outputs": [],
   "source": []
  }
 ],
 "metadata": {
  "interpreter": {
   "hash": "fdb5546fdc72dbf78890cf20227dead1d661971ec833c0d3e1f9420ef925f7d5"
  },
  "kernelspec": {
   "display_name": "Python 3 (ipykernel)",
   "language": "python",
   "name": "python3"
  },
  "language_info": {
   "codemirror_mode": {
    "name": "ipython",
    "version": 3
   },
   "file_extension": ".py",
   "mimetype": "text/x-python",
   "name": "python",
   "nbconvert_exporter": "python",
   "pygments_lexer": "ipython3",
   "version": "3.11.1"
  }
 },
 "nbformat": 4,
 "nbformat_minor": 4
}
