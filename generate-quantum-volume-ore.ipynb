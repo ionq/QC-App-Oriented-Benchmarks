{
 "cells": [
  {
   "cell_type": "markdown",
   "metadata": {},
   "source": [
    "### QV to Ore"
   ]
  },
  {
   "cell_type": "code",
   "execution_count": 12,
   "metadata": {},
   "outputs": [
    {
     "name": "stdout",
     "output_type": "stream",
     "text": [
      "converting qv to ore\n",
      "done\n"
     ]
    }
   ],
   "source": [
    "import qiskit.ignis.verification.quantum_volume as qv\n",
    "\n",
    "from qiskit2qore import qiskit_circuit_to_ore\n",
    "from chiron.dump import ore\n",
    "from chiron.load.qore import load_qore\n",
    "from chiron.dump import ore\n",
    "\n",
    "import json\n",
    "import subprocess\n",
    "from pathlib import Path\n",
    "\n",
    "# qv_circuits call requires connectivitiy to build circuits, will return QV circuits\n",
    "# between min_qubits and max_qubits\n",
    "\n",
    "min_qubits=2\n",
    "max_qubits=6\n",
    "max_circuits=1\n",
    "num_shots=1\n",
    "\n",
    "basis_selector = 1\n",
    "basis_gates_array = [\n",
    "    [],\n",
    "    [\"rx\", \"ry\", \"rz\", \"cx\"],  # a common basis set, default\n",
    "    [\"cx\", \"rz\", \"sx\", \"x\"],  # IBM default basis set\n",
    "    [\"rx\", \"ry\", \"rxx\"],  # IonQ default basis set\n",
    "    [\"h\", \"p\", \"cx\"],  # another common basis set\n",
    "    [\"u\", \"cx\"],  # general unitaries basis gates\n",
    "]\n",
    "\n",
    "def run_preprocessor(qore_path: Path) -> Path:\n",
    "    \"\"\"\n",
    "    runs the python preprocessor on the saved qore file, and returns the filename\n",
    "    of the preprocessed qore\n",
    "    \"\"\"\n",
    "    command = [\"python\", \"preprocessor2.py\", str(qore_path)]\n",
    "    process = subprocess.Popen(command, stdout=subprocess.PIPE, stderr=subprocess.PIPE)\n",
    "    return_code = process.wait()\n",
    "    if return_code != 0:\n",
    "        raise TypeError(f\"Subprocess failed with return code: {return_code}\")\n",
    "    return Path(f\"{str(qore_path)}_preprocessed\")\n",
    "\n",
    "def dump_qv_to_ore(preprocessor=False):\n",
    "    qubit_lists = [list(range(i)) for i in range(min_qubits, max_qubits + 1)]\n",
    "    _qv_circs, qv_circs_nomeas = qv.qv_circuits(qubit_lists, max_circuits)\n",
    "    for circuit_group in qv_circs_nomeas:\n",
    "        for circuit in circuit_group:\n",
    "            ionq_circuit, converted_qore = qiskit_circuit_to_ore.convert(\n",
    "                circuit, basis_gates=basis_gates_array[basis_selector]\n",
    "            )\n",
    "            circuit_name = ionq_circuit[\"name\"]\n",
    "            circuit_path = Path(f\"./{circuit_name}.json\")\n",
    "            circuit_path.write_text(json.dumps(ionq_circuit[\"input\"]))\n",
    "            converted_path = Path(f\"./{circuit_name}.qore\")\n",
    "            converted_path.write_text(converted_qore)\n",
    "            chiron_circuit = load_qore(converted_qore)\n",
    "            ore_circuit = ore.dumps(chiron_circuit, indent=4)\n",
    "            orefile_path = Path(f\"./{circuit_name}.ore\")\n",
    "            orefile_path.write_text(ore_circuit)\n",
    "            if preprocessor:\n",
    "                converted_path = run_preprocessor(converted_path)\n",
    "                converted_qore = converted_path.read_text()\n",
    "                chiron_circuit = load_qore(converted_qore)\n",
    "                ore_circuit = ore.dumps(chiron_circuit, indent=4)\n",
    "                converted_path = Path(f\"./{circuit_name}_preprocessed.ore\")\n",
    "                converted_path.write_text(ore_circuit)\n",
    "                \n",
    "\n",
    "            \n",
    "\n",
    "print(\"converting qv to ore\")\n",
    "dump_qv_to_ore(preprocessor=True)\n",
    "print(\"done\")"
   ]
  },
  {
   "cell_type": "code",
   "execution_count": null,
   "metadata": {},
   "outputs": [],
   "source": []
  }
 ],
 "metadata": {
  "interpreter": {
   "hash": "fdb5546fdc72dbf78890cf20227dead1d661971ec833c0d3e1f9420ef925f7d5"
  },
  "kernelspec": {
   "display_name": "Python 3 (ipykernel)",
   "language": "python",
   "name": "python3"
  },
  "language_info": {
   "codemirror_mode": {
    "name": "ipython",
    "version": 3
   },
   "file_extension": ".py",
   "mimetype": "text/x-python",
   "name": "python",
   "nbconvert_exporter": "python",
   "pygments_lexer": "ipython3",
   "version": "3.11.1"
  }
 },
 "nbformat": 4,
 "nbformat_minor": 4
}
