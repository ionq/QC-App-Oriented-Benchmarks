{
 "cells": [
  {
   "cell_type": "markdown",
   "metadata": {},
   "source": [
    "### Quantum Volume - Qiskit Version (Adapted from IBM QV Tutorial and Paper)\n"
   ]
  },
  {
   "cell_type": "code",
   "execution_count": 1,
   "metadata": {},
   "outputs": [
    {
     "name": "stderr",
     "output_type": "stream",
     "text": [
      "<ipython-input-1-a4fe989b1ca2>:51: DeprecationWarning: The qiskit.ignis package is deprecated and has been supersceded by the qiskit-experiments project. Refer to the migration guide: https://github.com/Qiskit/qiskit-ignis#migration-guide on how to migrate to the new project.\n",
      "  import qiskit.ignis.verification.quantum_volume as qv\n"
     ]
    }
   ],
   "source": [
    "min_qubits=2\n",
    "max_qubits=6\n",
    "max_circuits=1\n",
    "num_shots=100\n",
    "\n",
    "backend_id=\"qasm_simulator\"\n",
    "hub=\"ibm-q\"; group=\"open\"; project=\"main\"\n",
    "provider_backend = None\n",
    "\n",
    "# # *** If using IBMQ hardware, run this once to authenticate\n",
    "# from qiskit import IBMQ\n",
    "# IBMQ.save_account('YOUR_API_TOKEN_HERE')\n",
    "\n",
    "# # *** If you are part of an IBMQ group, set hub, group, and project name here\n",
    "# hub=\"YOUR_HUB_NAME\"\n",
    "# group=\"YOUR_GROUP_NAME\"\n",
    "# project=\"YOUR_PROJECT_NAME\"\n",
    "\n",
    "# # *** This example shows how to specify the backend using a known \"backend_id\"\n",
    "# backend_id=\"ibmq_belem\"\n",
    "\n",
    "# # *** Here's an example of using a typical custom provider backend (e.g. AQT simulator)\n",
    "# import os\n",
    "# from qiskit_aqt_provider import AQTProvider\n",
    "# provider = AQTProvider(os.environ.get('AQT_ACCESS_KEY'))    # get your key from environment\n",
    "# provider_backend = provider.backends.aqt_qasm_simulator_noise_1\n",
    "# backend_id=\"aqt_qasm_simulator_noise_1\"\n",
    "\n",
    "# # An example using IonQ provider\n",
    "# from qiskit_ionq import IonQProvider\n",
    "# provider = IonQProvider()   # Be sure to set the QISKIT_IONQ_API_TOKEN environment variable\n",
    "# provider_backend = provider.get_backend(\"ionq_qpu\")\n",
    "# backend_id=\"ionq_qpu\"\n",
    "\n",
    "# # *** Use these lines when running on hardware backend, to limit use of resources\n",
    "# min_qubits=2\n",
    "# max_qubits=5\n",
    "# max_circuits=1\n",
    "# num_shots=100\n",
    "\n",
    "#Import general libraries (needed for functions)\n",
    "import numpy as np\n",
    "import matplotlib.pyplot as plt\n",
    "\n",
    "#Import Qiskit classes classes\n",
    "import qiskit\n",
    "from qiskit.providers.aer.noise import NoiseModel\n",
    "from qiskit.providers.aer.noise.errors.standard_errors import depolarizing_error\n",
    "\n",
    "#Import the qv function.\n",
    "import qiskit.ignis.verification.quantum_volume as qv"
   ]
  },
  {
   "cell_type": "code",
   "execution_count": 2,
   "metadata": {
    "scrolled": false
   },
   "outputs": [
    {
     "name": "stdout",
     "output_type": "stream",
     "text": [
      "Circuit group 0\n",
      "\n",
      "QASM OPENQASM 2.0;\n",
      "include \"qelib1.inc\";\n",
      "gate unitary q0,q1 { u(0.11399019847417227,2.9418667501463336,-0.8226437084580391) q0; u(1.0861288987440243,0.0342530070834588,0.35393382821869235) q1; cx q0,q1; u(0.4765312547910912,-pi/2,-pi/2) q0; u(0.8650431787046892,-0.3790122368129363,-1.0201205291809252) q1; cx q0,q1; u(0.03679099992477121,-pi,-pi/2) q0; u(2*pi/3,-2.526112944919406,2.526112944919406) q1; cx q0,q1; u(2.6834954863924554,1.1755717712313638,0.6721076846346317) q0; u(1.2191017645587623,0.15095929658535834,1.312525196084307) q1; }\n",
      "gate unitary_140674710130592 q0,q1 { u(2.1343078593233678,-2.0021424875168563,0.30552014215831935) q0; u(1.0370004917017126,1.891596351322601,0.3654579313505373) q1; cx q0,q1; u(0.48112609652276894,-pi/2,-pi/2) q0; u(1.0223883374175258,-0.5941597544332029,-0.6572182265291886) q1; cx q0,q1; u(0.3422275080969441,0,pi/2) q0; u(2*pi/3,-2.526112944919406,2.526112944919406) q1; cx q0,q1; u(1.2747560509540012,-1.2116257089588525,-2.129462726049635) q0; u(1.6915491837389058,0.4139210872484127,-2.603370271149867) q1; }\n",
      "gate quantum_volume__2_2_73_ q0,q1 { unitary q1,q0; unitary_140674710130592 q0,q1; }\n",
      "qreg q[2];\n",
      "quantum_volume__2_2_73_ q[0],q[1];\n",
      "\n"
     ]
    },
    {
     "ename": "ValueError",
     "evalue": "OPENQASM 2.0; must be the first statement: instead got OPENQASM 2.0;;",
     "output_type": "error",
     "traceback": [
      "\u001b[0;31m---------------------------------------------------------------------------\u001b[0m",
      "\u001b[0;31mValueError\u001b[0m                                Traceback (most recent call last)",
      "\u001b[0;32m<ipython-input-2-a67ffa4e1871>\u001b[0m in \u001b[0;36m<module>\u001b[0;34m\u001b[0m\n\u001b[1;32m      9\u001b[0m     \u001b[0mprint\u001b[0m\u001b[0;34m(\u001b[0m\u001b[0;34m\"\"\u001b[0m\u001b[0;34m)\u001b[0m\u001b[0;34m\u001b[0m\u001b[0;34m\u001b[0m\u001b[0m\n\u001b[1;32m     10\u001b[0m     \u001b[0;32mfor\u001b[0m \u001b[0mcircuit\u001b[0m \u001b[0;32min\u001b[0m \u001b[0mcircuit_group\u001b[0m\u001b[0;34m:\u001b[0m\u001b[0;34m\u001b[0m\u001b[0;34m\u001b[0m\u001b[0m\n\u001b[0;32m---> 11\u001b[0;31m         \u001b[0mqasm2qore\u001b[0m\u001b[0;34m.\u001b[0m\u001b[0mconvert\u001b[0m\u001b[0;34m(\u001b[0m\u001b[0mcircuit\u001b[0m\u001b[0;34m)\u001b[0m\u001b[0;34m\u001b[0m\u001b[0;34m\u001b[0m\u001b[0m\n\u001b[0m\u001b[1;32m     12\u001b[0m \u001b[0;34m\u001b[0m\u001b[0m\n",
      "\u001b[0;32m~/Documents/coding/QC-App-Oriented-Benchmarks/conversion_lib/qasm2qore.py\u001b[0m in \u001b[0;36mconvert\u001b[0;34m(qiskit_circuit)\u001b[0m\n\u001b[1;32m    790\u001b[0m     \u001b[0mqasm\u001b[0m \u001b[0;34m=\u001b[0m \u001b[0mqiskit_circuit\u001b[0m\u001b[0;34m.\u001b[0m\u001b[0mqasm\u001b[0m\u001b[0;34m(\u001b[0m\u001b[0;34m)\u001b[0m\u001b[0;34m\u001b[0m\u001b[0;34m\u001b[0m\u001b[0m\n\u001b[1;32m    791\u001b[0m     \u001b[0mprint\u001b[0m\u001b[0;34m(\u001b[0m\u001b[0;34m\"QASM\"\u001b[0m\u001b[0;34m,\u001b[0m \u001b[0mqasm\u001b[0m\u001b[0;34m)\u001b[0m\u001b[0;34m\u001b[0m\u001b[0;34m\u001b[0m\u001b[0m\n\u001b[0;32m--> 792\u001b[0;31m     \u001b[0msqore\u001b[0m \u001b[0;34m=\u001b[0m \u001b[0mopenQASMToSqore\u001b[0m\u001b[0;34m(\u001b[0m\u001b[0mqasm\u001b[0m\u001b[0;34m)\u001b[0m\u001b[0;34m\u001b[0m\u001b[0;34m\u001b[0m\u001b[0m\n\u001b[0m\u001b[1;32m    793\u001b[0m     \u001b[0mprint\u001b[0m\u001b[0;34m(\u001b[0m\u001b[0;34m\"SQORE\"\u001b[0m\u001b[0;34m,\u001b[0m \u001b[0msqore\u001b[0m\u001b[0;34m)\u001b[0m\u001b[0;34m\u001b[0m\u001b[0;34m\u001b[0m\u001b[0m\n\u001b[1;32m    794\u001b[0m     \u001b[0;32mreturn\u001b[0m \u001b[0msqore\u001b[0m\u001b[0;34m\u001b[0m\u001b[0;34m\u001b[0m\u001b[0m\n",
      "\u001b[0;32m~/Documents/coding/QC-App-Oriented-Benchmarks/conversion_lib/qasm2qore.py\u001b[0m in \u001b[0;36mopenQASMToSqore\u001b[0;34m(openQASMSource)\u001b[0m\n\u001b[1;32m    601\u001b[0m                 \u001b[0mexpectHeader\u001b[0m \u001b[0;34m=\u001b[0m \u001b[0;32mFalse\u001b[0m\u001b[0;34m\u001b[0m\u001b[0;34m\u001b[0m\u001b[0m\n\u001b[1;32m    602\u001b[0m             \u001b[0;32melse\u001b[0m\u001b[0;34m:\u001b[0m\u001b[0;34m\u001b[0m\u001b[0;34m\u001b[0m\u001b[0m\n\u001b[0;32m--> 603\u001b[0;31m                 \u001b[0;32mraise\u001b[0m \u001b[0mValueError\u001b[0m\u001b[0;34m(\u001b[0m\u001b[0;34mf\"OPENQASM 2.0; must be the first statement: instead got {line}\"\u001b[0m\u001b[0;34m)\u001b[0m\u001b[0;34m\u001b[0m\u001b[0;34m\u001b[0m\u001b[0m\n\u001b[0m\u001b[1;32m    604\u001b[0m         \u001b[0;32melse\u001b[0m\u001b[0;34m:\u001b[0m\u001b[0;34m\u001b[0m\u001b[0;34m\u001b[0m\u001b[0m\n\u001b[1;32m    605\u001b[0m             \u001b[0mmatch\u001b[0m \u001b[0;34m=\u001b[0m \u001b[0mre\u001b[0m\u001b[0;34m.\u001b[0m\u001b[0mmatch\u001b[0m\u001b[0;34m(\u001b[0m\u001b[0;34mr\"^(q|c)reg\\s+([a-z]\\w*)\\s*\\[\\s*(\\d+)\\s*\\]\\s*;$\"\u001b[0m\u001b[0;34m,\u001b[0m \u001b[0mline\u001b[0m\u001b[0;34m)\u001b[0m\u001b[0;34m\u001b[0m\u001b[0;34m\u001b[0m\u001b[0m\n",
      "\u001b[0;31mValueError\u001b[0m: OPENQASM 2.0; must be the first statement: instead got OPENQASM 2.0;;"
     ]
    }
   ],
   "source": [
    "# qv_circuits call requires connectivitiy to build circuits, will return QV circuits\n",
    "# between min_qubits and max_qubits\n",
    "from conversion_lib import qasm2qore\n",
    "qubit_lists = [list(range(i)) for i in range(min_qubits ,max_qubits+1)]\n",
    "qv_circs, qv_circs_nomeas = qv.qv_circuits(qubit_lists, max_circuits)\n",
    "\n",
    "for index, circuit_group in enumerate(qv_circs_nomeas):\n",
    "    print(f\"Circuit group {index}\")\n",
    "    print(\"\")\n",
    "    for circuit in circuit_group:\n",
    "        qasm2qore.convert(circuit)\n",
    "    "
   ]
  },
  {
   "cell_type": "code",
   "execution_count": null,
   "metadata": {
    "scrolled": false
   },
   "outputs": [],
   "source": [
    "# Add the results for perfect simulation to compare against\n",
    "sim_backend = qiskit.Aer.get_backend('statevector_simulator')\n",
    "ideal_results = []\n",
    "for trial in range(max_circuits):\n",
    "    # print('Simulating trial %d'%trial)\n",
    "    ideal_results.append(qiskit.execute(qv_circs_nomeas[trial], backend=sim_backend, optimization_level=0).result())\n",
    "\n",
    "qv_fitter = qv.QVFitter(qubit_lists=qubit_lists)\n",
    "qv_fitter.add_statevectors(ideal_results)\n",
    "    "
   ]
  },
  {
   "cell_type": "code",
   "execution_count": null,
   "metadata": {},
   "outputs": [],
   "source": [
    "## Running QV with our execute module\n",
    "\n",
    "import sys\n",
    "sys.path[1:1] = [ \"_common\", \"_common/qiskit\" ]\n",
    "sys.path[1:1] = [ \"../../_common\", \"../../_common/qiskit\" ]\n",
    "import execute as ex\n",
    "\n",
    "exp_results = []\n",
    "\n",
    "# Define custom result handler\n",
    "def execution_handler(qc, result, num_qubits, s_int, num_shots):  \n",
    "     \n",
    "    exp_results.append(result)\n",
    "\n",
    "def do_nothing_on_groups(group):\n",
    "    pass\n",
    "\n",
    "ex.init_execution(execution_handler)\n",
    "ex.set_execution_target(backend_id, provider_backend=provider_backend,\n",
    "            hub=hub, group=group, project=project)\n",
    "ex.do_transpile_metrics = False # reduce runtime by not doing transpile metrics\n",
    "\n",
    "if backend_id == 'qasm_simulator':\n",
    "    # default noise model, can be overridden using set_noise_model\n",
    "    noise = NoiseModel()\n",
    "    # Add depolarizing error to all single qubit gates with error rate 0.3%\n",
    "    one_qb_error = 0.003\n",
    "    noise.add_all_qubit_quantum_error(depolarizing_error(one_qb_error, 1), ['rx', 'ry', 'rz'])\n",
    "\n",
    "    # Add depolarizing error to all two qubit gates with error rate 3.0%\n",
    "    two_qb_error = 0.03\n",
    "    noise.add_all_qubit_quantum_error(depolarizing_error(two_qb_error, 2), ['cx'])\n",
    "\n",
    "    ex.set_noise_model(noise)\n",
    "\n",
    "for num_qubits in range(max_qubits - min_qubits + 1):\n",
    "    for trial in range(max_circuits):\n",
    "        # print('Running trial %d'%trial)\n",
    "        ex.submit_circuit(qv_circs[trial][num_qubits], num_qubits, trial, shots=num_shots)\n",
    "    ex.throttle_execution(do_nothing_on_groups)ex.finalize_execution(do_nothing_on_groups)"
   ]
  },
  {
   "cell_type": "code",
   "execution_count": null,
   "metadata": {},
   "outputs": [],
   "source": [
    "# add results to qv_fitter object\n",
    "qv_fitter.add_data(exp_results)"
   ]
  },
  {
   "cell_type": "code",
   "execution_count": null,
   "metadata": {},
   "outputs": [],
   "source": [
    "plt.figure(figsize=(10, 6))\n",
    "ax = plt.gca()\n",
    "\n",
    "# Plot the essence by calling plot_rb_data\n",
    "qv_fitter.plot_qv_data(ax=ax, show_plt=False)\n",
    "\n",
    "# Add title and label\n",
    "ax.set_title('Quantum Volume for up to %d Qubits \\n and %d Trials'%(len(qubit_lists[-1]), max_circuits), fontsize=18)\n",
    "\n",
    "plt.show()"
   ]
  },
  {
   "cell_type": "code",
   "execution_count": null,
   "metadata": {},
   "outputs": [],
   "source": [
    "qv_success_list = qv_fitter.qv_success()\n",
    "qv_list = qv_fitter.ydata\n",
    "for qidx, qubit_list in enumerate(qubit_lists):\n",
    "    if qv_list[0][qidx]>2/3:\n",
    "        if qv_success_list[qidx][0]:\n",
    "            print(\"Width/depth %d greater than 2/3 (%f) with confidence %f (successful). Quantum volume %d\"%\n",
    "                  (len(qubit_list),qv_list[0][qidx],qv_success_list[qidx][1],qv_fitter.quantum_volume()[qidx]))\n",
    "        else:\n",
    "            print(\"Width/depth %d greater than 2/3 (%f) with confidence %f (unsuccessful).\"%\n",
    "                  (len(qubit_list),qv_list[0][qidx],qv_success_list[qidx][1]))\n",
    "    else:\n",
    "        print(\"Width/depth %d less than 2/3 (unsuccessful).\"%len(qubit_list))\n",
    "        "
   ]
  },
  {
   "cell_type": "code",
   "execution_count": null,
   "metadata": {},
   "outputs": [],
   "source": [
    "# get ratios between QV depth and our transpiled depth, QV_transpile_factor\n",
    "\n",
    "ratios = []\n",
    "for i in range(len(qv_circs_nomeas)):\n",
    "    for j in range(len(qv_circs_nomeas[i])):\n",
    "        qc_depth = qv_circs_nomeas[i][j].decompose().depth()\n",
    "        our_depth = qiskit.compiler.transpile(qv_circs_nomeas[i][j], basis_gates=['rx', 'ry', 'rz', 'cx']).depth()\n",
    "        ratio = our_depth/qc_depth\n",
    "        ratios.append(ratio)\n",
    "\n",
    "QV_transpile_factor = np.mean(ratios)\n",
    "print(f\"Factor to increase QV depth by due to our transpilation target: {QV_transpile_factor}\")"
   ]
  }
 ],
 "metadata": {
  "interpreter": {
   "hash": "fdb5546fdc72dbf78890cf20227dead1d661971ec833c0d3e1f9420ef925f7d5"
  },
  "kernelspec": {
   "display_name": "Python 3",
   "language": "python",
   "name": "python3"
  },
  "language_info": {
   "codemirror_mode": {
    "name": "ipython",
    "version": 3
   },
   "file_extension": ".py",
   "mimetype": "text/x-python",
   "name": "python",
   "nbconvert_exporter": "python",
   "pygments_lexer": "ipython3",
   "version": "3.9.12"
  }
 },
 "nbformat": 4,
 "nbformat_minor": 4
}
