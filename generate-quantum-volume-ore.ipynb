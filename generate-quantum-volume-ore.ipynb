{
 "cells": [
  {
   "cell_type": "markdown",
   "metadata": {},
   "source": [
    "### QV to Ore"
   ]
  },
  {
   "cell_type": "code",
   "execution_count": 2,
   "metadata": {},
   "outputs": [
    {
     "name": "stdout",
     "output_type": "stream",
     "text": [
      "converting qv to ore\n"
     ]
    },
    {
     "ename": "NameError",
     "evalue": "name 'json' is not defined",
     "output_type": "error",
     "traceback": [
      "\u001b[0;31m---------------------------------------------------------------------------\u001b[0m",
      "\u001b[0;31mNameError\u001b[0m                                 Traceback (most recent call last)",
      "Cell \u001b[0;32mIn[2], line 43\u001b[0m\n\u001b[1;32m     40\u001b[0m             converted_path\u001b[38;5;241m.\u001b[39mwrite_text(converted)\n\u001b[1;32m     42\u001b[0m \u001b[38;5;28mprint\u001b[39m(\u001b[38;5;124m\"\u001b[39m\u001b[38;5;124mconverting qv to ore\u001b[39m\u001b[38;5;124m\"\u001b[39m)\n\u001b[0;32m---> 43\u001b[0m \u001b[43mtest\u001b[49m\u001b[43m(\u001b[49m\u001b[43m)\u001b[49m\n\u001b[1;32m     44\u001b[0m \u001b[38;5;28mprint\u001b[39m(\u001b[38;5;124m\"\u001b[39m\u001b[38;5;124mdone\u001b[39m\u001b[38;5;124m\"\u001b[39m)\n",
      "Cell \u001b[0;32mIn[2], line 38\u001b[0m, in \u001b[0;36mtest\u001b[0;34m()\u001b[0m\n\u001b[1;32m     36\u001b[0m circuit_name \u001b[38;5;241m=\u001b[39m ionq_circuit[\u001b[38;5;124m\"\u001b[39m\u001b[38;5;124mname\u001b[39m\u001b[38;5;124m\"\u001b[39m]\n\u001b[1;32m     37\u001b[0m circuit_path \u001b[38;5;241m=\u001b[39m Path(\u001b[38;5;124mf\u001b[39m\u001b[38;5;124m\"\u001b[39m\u001b[38;5;124m./\u001b[39m\u001b[38;5;132;01m{\u001b[39;00mcircuit_name\u001b[38;5;132;01m}\u001b[39;00m\u001b[38;5;124m.json\u001b[39m\u001b[38;5;124m\"\u001b[39m)\n\u001b[0;32m---> 38\u001b[0m circuit_path\u001b[38;5;241m.\u001b[39mwrite_text(\u001b[43mjson\u001b[49m\u001b[38;5;241m.\u001b[39mdumps(ionq_circuit[\u001b[38;5;124m\"\u001b[39m\u001b[38;5;124minput\u001b[39m\u001b[38;5;124m\"\u001b[39m]))\n\u001b[1;32m     39\u001b[0m converted_path \u001b[38;5;241m=\u001b[39m Path(\u001b[38;5;124mf\u001b[39m\u001b[38;5;124m\"\u001b[39m\u001b[38;5;124m./\u001b[39m\u001b[38;5;132;01m{\u001b[39;00mcircuit_name\u001b[38;5;132;01m}\u001b[39;00m\u001b[38;5;124m.qore.python_baseline\u001b[39m\u001b[38;5;124m\"\u001b[39m)\n\u001b[1;32m     40\u001b[0m converted_path\u001b[38;5;241m.\u001b[39mwrite_text(converted)\n",
      "\u001b[0;31mNameError\u001b[0m: name 'json' is not defined"
     ]
    }
   ],
   "source": [
    "import qiskit.ignis.verification.quantum_volume as qv\n",
    "from pathlib import Path\n",
    "from qiskit2qore import qiskit_circuit_to_ore\n",
    "from chiron.dump import ore\n",
    "\n",
    "import json\n",
    "\n",
    "\n",
    "\n",
    "# qv_circuits call requires connectivitiy to build circuits, will return QV circuits\n",
    "# between min_qubits and max_qubits\n",
    "\n",
    "min_qubits=2\n",
    "max_qubits=6\n",
    "max_circuits=1\n",
    "num_shots=1\n",
    "\n",
    "basis_selector = 1\n",
    "basis_gates_array = [\n",
    "    [],\n",
    "    [\"rx\", \"ry\", \"rz\", \"cx\"],  # a common basis set, default\n",
    "    [\"cx\", \"rz\", \"sx\", \"x\"],  # IBM default basis set\n",
    "    [\"rx\", \"ry\", \"rxx\"],  # IonQ default basis set\n",
    "    [\"h\", \"p\", \"cx\"],  # another common basis set\n",
    "    [\"u\", \"cx\"],  # general unitaries basis gates\n",
    "]\n",
    "\n",
    "import chiron\n",
    "\n",
    "def test():\n",
    "    qubit_lists = [list(range(i)) for i in range(min_qubits, max_qubits + 1)]\n",
    "    _qv_circs, qv_circs_nomeas = qv.qv_circuits(qubit_lists, max_circuits)\n",
    "    for circuit_group in qv_circs_nomeas:\n",
    "        for circuit in circuit_group:\n",
    "            ionq_circuit, converted = qiskit_circuit_to_ore.convert(\n",
    "                circuit, basis_gates=basis_gates_array[basis_selector]\n",
    "            )\n",
    "            circuit_name = ionq_circuit[\"name\"]\n",
    "            circuit_path = Path(f\"./{circuit_name}.json\")\n",
    "            circuit_path.write_text(json.dumps(ionq_circuit[\"input\"]))\n",
    "            converted_path = Path(f\"./{circuit_name}.qore.python_baseline\")\n",
    "            converted_path.write_text(converted)\n",
    "\n",
    "print(\"converting qv to ore\")\n",
    "test()\n",
    "print(\"done\")"
   ]
  },
  {
   "cell_type": "code",
   "execution_count": null,
   "metadata": {},
   "outputs": [],
   "source": []
  }
 ],
 "metadata": {
  "interpreter": {
   "hash": "fdb5546fdc72dbf78890cf20227dead1d661971ec833c0d3e1f9420ef925f7d5"
  },
  "kernelspec": {
   "display_name": "Python 3 (ipykernel)",
   "language": "python",
   "name": "python3"
  },
  "language_info": {
   "codemirror_mode": {
    "name": "ipython",
    "version": 3
   },
   "file_extension": ".py",
   "mimetype": "text/x-python",
   "name": "python",
   "nbconvert_exporter": "python",
   "pygments_lexer": "ipython3",
   "version": "3.11.1"
  }
 },
 "nbformat": 4,
 "nbformat_minor": 4
}
