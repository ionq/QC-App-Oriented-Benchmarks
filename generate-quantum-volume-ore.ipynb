{
 "cells": [
  {
   "cell_type": "markdown",
   "metadata": {},
   "source": [
    "### QV to Ore"
   ]
  },
  {
   "cell_type": "code",
   "execution_count": null,
   "metadata": {},
   "outputs": [],
   "source": [
    "import qiskit.ignis.verification.quantum_volume as qv\n",
    "\n",
    "from qiskit2qore import qiskit_circuit_to_ore\n",
    "from qiskit2ore.dump import dump_qiskit_circuit_assets\n",
    "from chiron.dump import ore\n",
    "from chiron.load.qore import load_qore\n",
    "from chiron.dump import ore\n",
    "\n",
    "import json\n",
    "import subprocess\n",
    "from pathlib import Path\n",
    "\n",
    "# qv_circuits call requires connectivitiy to build circuits, will return QV circuits\n",
    "# between min_qubits and max_qubits\n",
    "\n",
    "# qiskit's qv_circuits algorithm will generate a batch of circuit for\n",
    "# each width from min_qubits to max_qubits.\n",
    "min_qubits=2\n",
    "max_qubits=6\n",
    "# number of circuits for each qubit width. QV circuits are random,\n",
    "# and generally need many variants to approximate uniform unitaries.\n",
    "max_circuits=1\n",
    "\n",
    "print(\"converting qv to ore\")\n",
    "\n",
    "qubit_lists = [list(range(i)) for i in range(min_qubits, max_qubits + 1)]\n",
    "_qv_circs, qv_circs_nomeas = qv.qv_circuits(qubit_lists, max_circuits)\n",
    "for circuit_group in qv_circs_nomeas:\n",
    "    for circuit in circuit_group:\n",
    "        dump_qiskit_circuit_assets(circuit, preprocessor=True)\n",
    "\n",
    "print(\"done\")"
   ]
  },
  {
   "cell_type": "code",
   "execution_count": null,
   "metadata": {},
   "outputs": [],
   "source": []
  }
 ],
 "metadata": {
  "interpreter": {
   "hash": "fdb5546fdc72dbf78890cf20227dead1d661971ec833c0d3e1f9420ef925f7d5"
  },
  "kernelspec": {
   "display_name": "Python 3 (ipykernel)",
   "language": "python",
   "name": "python3"
  },
  "language_info": {
   "codemirror_mode": {
    "name": "ipython",
    "version": 3
   },
   "file_extension": ".py",
   "mimetype": "text/x-python",
   "name": "python",
   "nbconvert_exporter": "python",
   "pygments_lexer": "ipython3",
   "version": "3.11.1"
  }
 },
 "nbformat": 4,
 "nbformat_minor": 4
}
